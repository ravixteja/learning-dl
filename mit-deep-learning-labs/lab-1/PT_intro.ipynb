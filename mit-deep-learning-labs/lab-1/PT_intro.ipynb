{
 "cells": [
  {
   "cell_type": "markdown",
   "id": "7a76edba",
   "metadata": {
    "vscode": {
     "languageId": "plaintext"
    }
   },
   "source": [
    "# Part 1: Intro to PyTorch\n",
    "\n",
    "In this module, we will learn some basic computations of PyTorch."
   ]
  },
  {
   "cell_type": "markdown",
   "id": "d3e503b7",
   "metadata": {},
   "source": [
    "## 1.0 Install PyTorch"
   ]
  },
  {
   "cell_type": "code",
   "execution_count": 6,
   "id": "d0e14f12",
   "metadata": {},
   "outputs": [],
   "source": [
    "# I have installed PyTorch through my terminal in my virtual environment\n",
    "# For detailed information on how to install PyTorch, please refer to:\n",
    "# https://pytorch.org/get-started/locally/"
   ]
  },
  {
   "cell_type": "code",
   "execution_count": 7,
   "id": "537461aa",
   "metadata": {},
   "outputs": [],
   "source": [
    "# Importing libraries\n",
    "import numpy as np\n",
    "import matplotlib.pyplot as plt\n",
    "\n",
    "import torch\n",
    "import torch.nn as nn"
   ]
  },
  {
   "cell_type": "markdown",
   "id": "ef6ec1f1",
   "metadata": {},
   "source": [
    "## 1.1 What is PyTorch ?\n",
    "- PyTorch is a machine learning library.\n",
    "- It provides functions for creating and mainpulating tensors.\n",
    "- Tensors - data structures which are multi-dimensional arrays. They can be described as n-dimensional arrays of base datatypes like integers, floats and strings.\n",
    "- It provides ability to perform computations on tensors, define neural networks and train them."
   ]
  },
  {
   "cell_type": "markdown",
   "id": "c7abf28b",
   "metadata": {},
   "source": [
    "### Shape of a tensor: \n",
    "defines number of dimensions and size of each dimension."
   ]
  },
  {
   "cell_type": "code",
   "execution_count": 10,
   "id": "2c930ace",
   "metadata": {},
   "outputs": [
    {
     "name": "stdout",
     "output_type": "stream",
     "text": [
      "`integer` is a tensor of dimension 0\n",
      "`decimal` is a tensor of dimension 0\n"
     ]
    }
   ],
   "source": [
    "# examples of tensors\n",
    "integer = torch.tensor(9923)\n",
    "decimal = torch.tensor(3.14)\n",
    "\n",
    "# printing tensors and their dimensions\n",
    "print(f\"`integer` is a tensor of dimension {integer.ndim}\")\n",
    "print(f\"`decimal` is a tensor of dimension {decimal.ndim}\")"
   ]
  },
  {
   "cell_type": "markdown",
   "id": "c3cb885a",
   "metadata": {},
   "source": [
    "Tensors of dimension 1 can be created using lists or vectors"
   ]
  },
  {
   "cell_type": "code",
   "execution_count": 15,
   "id": "3a6023d4",
   "metadata": {},
   "outputs": [
    {
     "name": "stdout",
     "output_type": "stream",
     "text": [
      "`sequence` is a tensor of dimension 1 and shape: torch.Size([100])\n"
     ]
    }
   ],
   "source": [
    "sequence = torch.tensor(range(100))\n",
    "print(f\"`sequence` is a tensor of dimension {sequence.ndim} and shape: {sequence.shape}\")"
   ]
  },
  {
   "cell_type": "markdown",
   "id": "5cd305af",
   "metadata": {},
   "source": [
    "Tensors of higer dimensions:"
   ]
  },
  {
   "cell_type": "code",
   "execution_count": 39,
   "id": "394d1d05",
   "metadata": {},
   "outputs": [
    {
     "name": "stdout",
     "output_type": "stream",
     "text": [
      "`matrix_2d` is a tensor of dimension 2 and shape: torch.Size([2, 3])\n",
      "`tensor_3d` is a tensor of dimension 3 and shape: torch.Size([2, 2, 2])\n"
     ]
    }
   ],
   "source": [
    "# 2d tensors\n",
    "matrix_2d = torch.tensor([[1, 2, 3], [4, 5, 6]])\n",
    "# Assertions to check the properties of the tensors\n",
    "assert isinstance(matrix_2d, torch.Tensor), \"matrix_2d is not a tensor\"\n",
    "assert matrix_2d.ndim == 2\n",
    "\n",
    "print(f\"`matrix_2d` is a tensor of dimension {matrix_2d.ndim} and shape: {matrix_2d.shape}\")\n",
    "\n",
    "# 3d tensors\n",
    "tensor_3d = torch.tensor([[[1, 2], [3, 4]], [[5, 6], [7, 8]]])\n",
    "\n",
    "assert isinstance(tensor_3d, torch.Tensor), \"tensor_3d is not a tensor\"\n",
    "assert tensor_3d.ndim == 3\n",
    "print(f\"`tensor_3d` is a tensor of dimension {tensor_3d.ndim} and shape: {tensor_3d.shape}\")"
   ]
  },
  {
   "cell_type": "markdown",
   "id": "5ba036a5",
   "metadata": {},
   "source": [
    "\n",
    "3d tensors can be visualized as a stack of matrices or a cube of numbers<br>\n",
    "These are generally used to represent images, videos, etc."
   ]
  },
  {
   "cell_type": "code",
   "execution_count": 40,
   "id": "ad1f2170",
   "metadata": {},
   "outputs": [
    {
     "name": "stdout",
     "output_type": "stream",
     "text": [
      "`tensor_4d` is a tensor of dimension 4 and shape: torch.Size([2, 2, 4, 2])\n"
     ]
    }
   ],
   "source": [
    "# define a 4d tensor\n",
    "tensor_4d = torch.tensor([[[[1,2],[3,4],[5,6],[7,8]],[[1,2],[3,4],[5,6],[7,8]]],\n",
    "                          [[[1,2],[3,4],[5,6],[7,8]],[[1,2],[3,4],[5,6],[7,8]]]])\n",
    "\n",
    "assert isinstance(tensor_4d, torch.Tensor), \"tensor_4d is not a tensor\"\n",
    "assert tensor_4d.ndim == 4, \"tensor_4d is not a 4-dimensional tensor\"\n",
    "print(f\"`tensor_4d` is a tensor of dimension {tensor_4d.ndim} and shape: {tensor_4d.shape}\")"
   ]
  },
  {
   "cell_type": "markdown",
   "id": "e848592f",
   "metadata": {},
   "source": [
    "Use torch.zeros to initialize a 4-d Tensor of zeros with size 10 x 3 x 256 x 256.<br>\n",
    "Breakdown: 10 images, RGB, 256x256"
   ]
  },
  {
   "cell_type": "code",
   "execution_count": 56,
   "id": "d21a788b",
   "metadata": {},
   "outputs": [
    {
     "name": "stdout",
     "output_type": "stream",
     "text": [
      "`images` is a 4-d Tensor with shape: torch.Size([10, 3, 256, 256])\n",
      "`images` is a 4-d Tensor with shape: torch.Size([10, 3, 256, 256])\n"
     ]
    }
   ],
   "source": [
    "# initializing 4-d tensor of images\n",
    "images = torch.tensor([\n",
    "                    [np.zeros([256,256]),np.zeros([256,256]),np.zeros([256,256])],\n",
    "                    [np.zeros([256,256]),np.zeros([256,256]),np.zeros([256,256])],\n",
    "                    [np.zeros([256,256]),np.zeros([256,256]),np.zeros([256,256])],\n",
    "                    [np.zeros([256,256]),np.zeros([256,256]),np.zeros([256,256])],\n",
    "                    [np.zeros([256,256]),np.zeros([256,256]),np.zeros([256,256])],\n",
    "                    [np.zeros([256,256]),np.zeros([256,256]),np.zeros([256,256])],\n",
    "                    [np.zeros([256,256]),np.zeros([256,256]),np.zeros([256,256])],\n",
    "                    [np.zeros([256,256]),np.zeros([256,256]),np.zeros([256,256])],\n",
    "                    [np.zeros([256,256]),np.zeros([256,256]),np.zeros([256,256])],\n",
    "                    [np.zeros([256,256]),np.zeros([256,256]),np.zeros([256,256])]\n",
    "                    \n",
    "                    ])\n",
    "\n",
    "assert isinstance(images, torch.Tensor), \"images is not a tensor\"\n",
    "assert images.ndim == 4, \"images is not a 4-dimensional tensor\"\n",
    "assert images.shape == (10, 3, 256, 256), \"images does not have the expected shape\"\n",
    "print(f\"`images` is a {images.ndim}-d Tensor with shape: {images.shape}\")\n",
    "\n",
    "# That's probably the dumbest way to initialize a 4-d Tensor of zeros with size 10 x 3 x 256 x 256.\n",
    "\n",
    "# A better way to do this is:\n",
    "images = torch.zeros(10, 3, 256, 256)\n",
    "# display(images)\n",
    "\n",
    "assert isinstance(images, torch.Tensor), \"images is not a tensor\"\n",
    "assert images.ndim == 4, \"images is not a 4-dimensional tensor\"\n",
    "assert images.shape == (10, 3, 256, 256), \"images does not have the expected shape\"\n",
    "print(f\"`images` is a {images.ndim}-d Tensor with shape: {images.shape}\")"
   ]
  },
  {
   "cell_type": "markdown",
   "id": "7a066a01",
   "metadata": {},
   "source": [
    "Slicing can be used to access subtensors."
   ]
  },
  {
   "cell_type": "code",
   "execution_count": 64,
   "id": "19f2fa14",
   "metadata": {},
   "outputs": [
    {
     "name": "stdout",
     "output_type": "stream",
     "text": [
      "2d Tensor:\n"
     ]
    },
    {
     "data": {
      "text/plain": [
       "tensor([[1, 2, 3],\n",
       "        [4, 5, 6]])"
      ]
     },
     "metadata": {},
     "output_type": "display_data"
    },
    {
     "name": "stdout",
     "output_type": "stream",
     "text": [
      "Subtensor from 2d Tensor:\n"
     ]
    },
    {
     "data": {
      "text/plain": [
       "tensor([[2, 3],\n",
       "        [5, 6]])"
      ]
     },
     "metadata": {},
     "output_type": "display_data"
    },
    {
     "name": "stdout",
     "output_type": "stream",
     "text": [
      "Row Vector from 2d Tensor:\n"
     ]
    },
    {
     "data": {
      "text/plain": [
       "tensor([1, 2, 3])"
      ]
     },
     "metadata": {},
     "output_type": "display_data"
    },
    {
     "name": "stdout",
     "output_type": "stream",
     "text": [
      "Column Vector from 2d Tensor:\n"
     ]
    },
    {
     "data": {
      "text/plain": [
       "tensor([1, 4])"
      ]
     },
     "metadata": {},
     "output_type": "display_data"
    },
    {
     "name": "stdout",
     "output_type": "stream",
     "text": [
      "Scalar from 2d Tensor:\n"
     ]
    },
    {
     "data": {
      "text/plain": [
       "tensor(2)"
      ]
     },
     "metadata": {},
     "output_type": "display_data"
    }
   ],
   "source": [
    "# using slicing to access subtensors from a 2d tensor\n",
    "print(\"2d Tensor:\")\n",
    "display(matrix_2d)\n",
    "\n",
    "subtensor_2d = matrix_2d[0:2, 1:3]\n",
    "\n",
    "print(\"Subtensor from 2d Tensor:\")\n",
    "display(subtensor_2d)\n",
    "\n",
    "print(\"Row Vector from 2d Tensor:\")\n",
    "row_vector_2d = matrix_2d[0]\n",
    "display(row_vector_2d)\n",
    "\n",
    "print(\"Column Vector from 2d Tensor:\")\n",
    "column_vector_2d = matrix_2d[:, 0]\n",
    "display(column_vector_2d)\n",
    "\n",
    "print(\"Scalar from 2d Tensor:\")\n",
    "scalar_2d = matrix_2d[0, 1]\n",
    "display(scalar_2d)"
   ]
  },
  {
   "cell_type": "markdown",
   "id": "5e73add8",
   "metadata": {},
   "source": [
    "## 1.2 Computation on Tensors"
   ]
  },
  {
   "cell_type": "code",
   "execution_count": null,
   "id": "8320dd33",
   "metadata": {},
   "outputs": [],
   "source": []
  }
 ],
 "metadata": {
  "kernelspec": {
   "display_name": "myenv",
   "language": "python",
   "name": "python3"
  },
  "language_info": {
   "codemirror_mode": {
    "name": "ipython",
    "version": 3
   },
   "file_extension": ".py",
   "mimetype": "text/x-python",
   "name": "python",
   "nbconvert_exporter": "python",
   "pygments_lexer": "ipython3",
   "version": "3.10.12"
  }
 },
 "nbformat": 4,
 "nbformat_minor": 5
}
