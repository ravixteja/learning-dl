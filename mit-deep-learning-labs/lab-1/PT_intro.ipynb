{
 "cells": [
  {
   "cell_type": "markdown",
   "id": "7a76edba",
   "metadata": {
    "vscode": {
     "languageId": "plaintext"
    }
   },
   "source": [
    "# Lab 1: Intro to PyTorch and Music Generation with RNNs\n",
    "# Part 1: Intro to PyTorch\n",
    "\n",
    "In this module, we will learn some basic computations of PyTorch."
   ]
  },
  {
   "cell_type": "markdown",
   "id": "d3e503b7",
   "metadata": {},
   "source": [
    "## 1.0 Install PyTorch"
   ]
  },
  {
   "cell_type": "code",
   "execution_count": 1,
   "id": "d0e14f12",
   "metadata": {},
   "outputs": [],
   "source": [
    "# I have installed PyTorch through my terminal in my virtual environment\n",
    "# For detailed information on how to install PyTorch, please refer to:\n",
    "# https://pytorch.org/get-started/locally/"
   ]
  },
  {
   "cell_type": "code",
   "execution_count": 2,
   "id": "537461aa",
   "metadata": {},
   "outputs": [],
   "source": [
    "# Importing libraries\n",
    "import numpy as np\n",
    "import matplotlib.pyplot as plt\n",
    "import torch\n",
    "import torch.nn as nn"
   ]
  },
  {
   "cell_type": "markdown",
   "id": "ef6ec1f1",
   "metadata": {},
   "source": [
    "## 1.1 What is PyTorch ?\n",
    "- PyTorch is a machine learning library.\n",
    "- It provides functions for creating and mainpulating tensors.\n",
    "- Tensors - data structures which are multi-dimensional arrays. They can be described as n-dimensional arrays of base datatypes like integers, floats and strings.\n",
    "- It provides ability to perform computations on tensors, define neural networks and train them."
   ]
  },
  {
   "cell_type": "markdown",
   "id": "c7abf28b",
   "metadata": {},
   "source": [
    "### Shape of a tensor: \n",
    "defines number of dimensions and size of each dimension."
   ]
  },
  {
   "cell_type": "code",
   "execution_count": 3,
   "id": "2c930ace",
   "metadata": {},
   "outputs": [
    {
     "name": "stdout",
     "output_type": "stream",
     "text": [
      "`integer` is a tensor of dimension 0\n",
      "`decimal` is a tensor of dimension 0\n"
     ]
    }
   ],
   "source": [
    "# examples of tensors\n",
    "integer = torch.tensor(9923)\n",
    "decimal = torch.tensor(3.14)\n",
    "\n",
    "# printing tensors and their dimensions\n",
    "print(f\"`integer` is a tensor of dimension {integer.ndim}\")\n",
    "print(f\"`decimal` is a tensor of dimension {decimal.ndim}\")"
   ]
  },
  {
   "cell_type": "markdown",
   "id": "c3cb885a",
   "metadata": {},
   "source": [
    "Tensors of dimension 1 can be created using lists or vectors"
   ]
  },
  {
   "cell_type": "code",
   "execution_count": 4,
   "id": "3a6023d4",
   "metadata": {},
   "outputs": [
    {
     "name": "stdout",
     "output_type": "stream",
     "text": [
      "`sequence` is a tensor of dimension 1 and shape: torch.Size([100])\n"
     ]
    }
   ],
   "source": [
    "sequence = torch.tensor(range(100))\n",
    "print(f\"`sequence` is a tensor of dimension {sequence.ndim} and shape: {sequence.shape}\")"
   ]
  },
  {
   "cell_type": "markdown",
   "id": "5cd305af",
   "metadata": {},
   "source": [
    "Tensors of higer dimensions:"
   ]
  },
  {
   "cell_type": "code",
   "execution_count": 5,
   "id": "394d1d05",
   "metadata": {},
   "outputs": [
    {
     "name": "stdout",
     "output_type": "stream",
     "text": [
      "`matrix_2d` is a tensor of dimension 2 and shape: torch.Size([2, 3])\n",
      "`tensor_3d` is a tensor of dimension 3 and shape: torch.Size([2, 2, 2])\n"
     ]
    }
   ],
   "source": [
    "# 2d tensors\n",
    "matrix_2d = torch.tensor([[1, 2, 3], [4, 5, 6]])\n",
    "# Assertions to check the properties of the tensors\n",
    "assert isinstance(matrix_2d, torch.Tensor), \"matrix_2d is not a tensor\"\n",
    "assert matrix_2d.ndim == 2\n",
    "\n",
    "print(f\"`matrix_2d` is a tensor of dimension {matrix_2d.ndim} and shape: {matrix_2d.shape}\")\n",
    "\n",
    "# 3d tensors\n",
    "tensor_3d = torch.tensor([[[1, 2], [3, 4]], [[5, 6], [7, 8]]])\n",
    "\n",
    "assert isinstance(tensor_3d, torch.Tensor), \"tensor_3d is not a tensor\"\n",
    "assert tensor_3d.ndim == 3\n",
    "print(f\"`tensor_3d` is a tensor of dimension {tensor_3d.ndim} and shape: {tensor_3d.shape}\")"
   ]
  },
  {
   "cell_type": "markdown",
   "id": "5ba036a5",
   "metadata": {},
   "source": [
    "\n",
    "3d tensors can be visualized as a stack of matrices or a cube of numbers<br>\n",
    "These are generally used to represent images, videos, etc."
   ]
  },
  {
   "cell_type": "code",
   "execution_count": 6,
   "id": "ad1f2170",
   "metadata": {},
   "outputs": [
    {
     "name": "stdout",
     "output_type": "stream",
     "text": [
      "`tensor_4d` is a tensor of dimension 4 and shape: torch.Size([2, 2, 4, 2])\n"
     ]
    }
   ],
   "source": [
    "# define a 4d tensor\n",
    "tensor_4d = torch.tensor([[[[1,2],[3,4],[5,6],[7,8]],[[1,2],[3,4],[5,6],[7,8]]],\n",
    "                          [[[1,2],[3,4],[5,6],[7,8]],[[1,2],[3,4],[5,6],[7,8]]]])\n",
    "\n",
    "assert isinstance(tensor_4d, torch.Tensor), \"tensor_4d is not a tensor\"\n",
    "assert tensor_4d.ndim == 4, \"tensor_4d is not a 4-dimensional tensor\"\n",
    "print(f\"`tensor_4d` is a tensor of dimension {tensor_4d.ndim} and shape: {tensor_4d.shape}\")"
   ]
  },
  {
   "cell_type": "markdown",
   "id": "e848592f",
   "metadata": {},
   "source": [
    "Use torch.zeros to initialize a 4-d Tensor of zeros with size 10 x 3 x 256 x 256.<br>\n",
    "Breakdown: 10 images, RGB, 256x256"
   ]
  },
  {
   "cell_type": "code",
   "execution_count": 7,
   "id": "d21a788b",
   "metadata": {},
   "outputs": [
    {
     "name": "stdout",
     "output_type": "stream",
     "text": [
      "`images` is a 4-d Tensor with shape: torch.Size([10, 3, 256, 256])\n",
      "`images` is a 4-d Tensor with shape: torch.Size([10, 3, 256, 256])\n"
     ]
    },
    {
     "name": "stderr",
     "output_type": "stream",
     "text": [
      "/tmp/ipykernel_8801/442107092.py:2: UserWarning: Creating a tensor from a list of numpy.ndarrays is extremely slow. Please consider converting the list to a single numpy.ndarray with numpy.array() before converting to a tensor. (Triggered internally at /pytorch/torch/csrc/utils/tensor_new.cpp:254.)\n",
      "  images = torch.tensor([\n"
     ]
    }
   ],
   "source": [
    "# initializing 4-d tensor of images\n",
    "images = torch.tensor([\n",
    "                    [np.zeros([256,256]),np.zeros([256,256]),np.zeros([256,256])],\n",
    "                    [np.zeros([256,256]),np.zeros([256,256]),np.zeros([256,256])],\n",
    "                    [np.zeros([256,256]),np.zeros([256,256]),np.zeros([256,256])],\n",
    "                    [np.zeros([256,256]),np.zeros([256,256]),np.zeros([256,256])],\n",
    "                    [np.zeros([256,256]),np.zeros([256,256]),np.zeros([256,256])],\n",
    "                    [np.zeros([256,256]),np.zeros([256,256]),np.zeros([256,256])],\n",
    "                    [np.zeros([256,256]),np.zeros([256,256]),np.zeros([256,256])],\n",
    "                    [np.zeros([256,256]),np.zeros([256,256]),np.zeros([256,256])],\n",
    "                    [np.zeros([256,256]),np.zeros([256,256]),np.zeros([256,256])],\n",
    "                    [np.zeros([256,256]),np.zeros([256,256]),np.zeros([256,256])]\n",
    "                    \n",
    "                    ])\n",
    "\n",
    "assert isinstance(images, torch.Tensor), \"images is not a tensor\"\n",
    "assert images.ndim == 4, \"images is not a 4-dimensional tensor\"\n",
    "assert images.shape == (10, 3, 256, 256), \"images does not have the expected shape\"\n",
    "print(f\"`images` is a {images.ndim}-d Tensor with shape: {images.shape}\")\n",
    "\n",
    "# That's probably the dumbest way to initialize a 4-d Tensor of zeros with size 10 x 3 x 256 x 256.\n",
    "\n",
    "# A better way to do this is:\n",
    "images = torch.zeros(10, 3, 256, 256)\n",
    "# display(images)\n",
    "\n",
    "assert isinstance(images, torch.Tensor), \"images is not a tensor\"\n",
    "assert images.ndim == 4, \"images is not a 4-dimensional tensor\"\n",
    "assert images.shape == (10, 3, 256, 256), \"images does not have the expected shape\"\n",
    "print(f\"`images` is a {images.ndim}-d Tensor with shape: {images.shape}\")"
   ]
  },
  {
   "cell_type": "markdown",
   "id": "7a066a01",
   "metadata": {},
   "source": [
    "Slicing can be used to access subtensors."
   ]
  },
  {
   "cell_type": "code",
   "execution_count": 8,
   "id": "19f2fa14",
   "metadata": {},
   "outputs": [
    {
     "name": "stdout",
     "output_type": "stream",
     "text": [
      "2d Tensor:\n"
     ]
    },
    {
     "data": {
      "text/plain": [
       "tensor([[1, 2, 3],\n",
       "        [4, 5, 6]])"
      ]
     },
     "metadata": {},
     "output_type": "display_data"
    },
    {
     "name": "stdout",
     "output_type": "stream",
     "text": [
      "Subtensor from 2d Tensor:\n"
     ]
    },
    {
     "data": {
      "text/plain": [
       "tensor([[2, 3],\n",
       "        [5, 6]])"
      ]
     },
     "metadata": {},
     "output_type": "display_data"
    },
    {
     "name": "stdout",
     "output_type": "stream",
     "text": [
      "Row Vector from 2d Tensor:\n"
     ]
    },
    {
     "data": {
      "text/plain": [
       "tensor([1, 2, 3])"
      ]
     },
     "metadata": {},
     "output_type": "display_data"
    },
    {
     "name": "stdout",
     "output_type": "stream",
     "text": [
      "Column Vector from 2d Tensor:\n"
     ]
    },
    {
     "data": {
      "text/plain": [
       "tensor([1, 4])"
      ]
     },
     "metadata": {},
     "output_type": "display_data"
    },
    {
     "name": "stdout",
     "output_type": "stream",
     "text": [
      "Scalar from 2d Tensor:\n"
     ]
    },
    {
     "data": {
      "text/plain": [
       "tensor(2)"
      ]
     },
     "metadata": {},
     "output_type": "display_data"
    }
   ],
   "source": [
    "# using slicing to access subtensors from a 2d tensor\n",
    "print(\"2d Tensor:\")\n",
    "display(matrix_2d)\n",
    "\n",
    "subtensor_2d = matrix_2d[0:2, 1:3]\n",
    "\n",
    "print(\"Subtensor from 2d Tensor:\")\n",
    "display(subtensor_2d)\n",
    "\n",
    "print(\"Row Vector from 2d Tensor:\")\n",
    "row_vector_2d = matrix_2d[0]\n",
    "display(row_vector_2d)\n",
    "\n",
    "print(\"Column Vector from 2d Tensor:\")\n",
    "column_vector_2d = matrix_2d[:, 0]\n",
    "display(column_vector_2d)\n",
    "\n",
    "print(\"Scalar from 2d Tensor:\")\n",
    "scalar_2d = matrix_2d[0, 1]\n",
    "display(scalar_2d)"
   ]
  },
  {
   "cell_type": "markdown",
   "id": "5e73add8",
   "metadata": {},
   "source": [
    "## 1.2 Computation on Tensors"
   ]
  },
  {
   "cell_type": "markdown",
   "id": "68d3d69a",
   "metadata": {},
   "source": [
    "Computation on tensors can be visualized using graphs. These graphs hold data and mathematical operations that act on the tensors in a specific order.<br>\n",
    "A simple example is illustrated in the graph below:<br><br>\n",
    "![alt text](tensor_computation_1.jpg)"
   ]
  },
  {
   "cell_type": "code",
   "execution_count": 9,
   "id": "8320dd33",
   "metadata": {},
   "outputs": [
    {
     "name": "stdout",
     "output_type": "stream",
     "text": [
      "c1: 52 is a tensor ? True\n",
      "c2: 52 is a tensor ? True\n"
     ]
    }
   ],
   "source": [
    "# create nodes of the graph \n",
    "a = torch.tensor(20)\n",
    "b = torch.tensor(32)\n",
    "\n",
    "# perform addition operation\n",
    "c1 = torch.add(a, b)\n",
    "c2 = a + b # `+` operator is overloaded by PyTorch\n",
    "\n",
    "# print(f\"c1: {c1}, c2: {c2}\")\n",
    "print(f\"c1: {c1} is a tensor ? {isinstance(c1, torch.Tensor)}\")\n",
    "print(f\"c2: {c2} is a tensor ? {isinstance(c2, torch.Tensor)}\")"
   ]
  },
  {
   "cell_type": "markdown",
   "id": "1406c173",
   "metadata": {},
   "source": [
    "Considering a slightly more complicated example:<br><br>\n",
    "![alt text](tensor_computation_2.jpg)"
   ]
  },
  {
   "cell_type": "code",
   "execution_count": 10,
   "id": "7c6775ef",
   "metadata": {},
   "outputs": [],
   "source": [
    "# defining a function to perform computation as shown in the graph\n",
    "def compute(a, b):\n",
    "    c = torch.add(a, b)\n",
    "    d = torch.subtract(b, 1)\n",
    "    e = torch.multiply(c, d)\n",
    "    return e"
   ]
  },
  {
   "cell_type": "code",
   "execution_count": 11,
   "id": "959eef3b",
   "metadata": {},
   "outputs": [
    {
     "name": "stdout",
     "output_type": "stream",
     "text": [
      "Computation done on a: 20 and b: 32 resulted in : 1612\n",
      "Result is a tensor ? True\n"
     ]
    }
   ],
   "source": [
    "# use the function to perform computation\n",
    "result = compute(a, b)\n",
    "print(f\"Computation done on a: {a} and b: {b} resulted in : {result}\")\n",
    "print(f\"Result is a tensor ? {isinstance(result, torch.Tensor)}\")"
   ]
  },
  {
   "cell_type": "markdown",
   "id": "05122013",
   "metadata": {},
   "source": [
    "## 1.3 Neural Networks in PyTorch"
   ]
  },
  {
   "cell_type": "markdown",
   "id": "8712b24b",
   "metadata": {},
   "source": [
    "We can define neural networks in PyTorch. Well that's the dominant use case of PyTorch!<br>\n",
    "PyTorch uses <mark>torch.nn.Module</mark> - it serves as base class for all neural network modules in PyTorch - providing framework to build and train these neural networks.<br>\n",
    "\n",
    "Below is a graphical representation of a simple neural network:<br><br>\n",
    "![alt text](simple_neural_network.jpg)"
   ]
  },
  {
   "cell_type": "markdown",
   "id": "e2234937",
   "metadata": {},
   "source": [
    "We use <mark>torch.nn.Module</mark> to define the layers, which contain groups of perceptrons(neurons), the building blocks of neural networks.<br>\n",
    "To implement a layer, we subclass <mark>torch.nn.Module</mark> and define parameters of layers (w,x,b) as attributes of this new class.<br>\n",
    "It is also necessary to overload <mark>forward</mark> function by defining a forward computation function performed at every step.<br>\n",
    "<br>\n",
    "Writing a dense layer for the network shown above:"
   ]
  },
  {
   "cell_type": "code",
   "execution_count": 12,
   "id": "a4ecfa47",
   "metadata": {},
   "outputs": [],
   "source": [
    "# defining a new layer\n",
    "\n",
    "# num_inputs: number of input nodes\n",
    "# num_outputs: number of output nodes\n",
    "# x: input tensor\n",
    "\n",
    "class DenseLayer(torch.nn.Module):\n",
    "\n",
    "    # define constructor of this subclass\n",
    "    def __init__(self, num_inputs, num_outputs):\n",
    "        super(DenseLayer,self).__init__() # calling the constructor of parent class\n",
    "\n",
    "        # defining the parameters of the layer and initializing them randomly\n",
    "        self.W = torch.nn.Parameter(torch.randn(num_inputs, num_outputs))\n",
    "        self.b = torch.nn.Parameter(torch.randn(num_outputs))\n",
    "\n",
    "    # defining the forward computation function (override)\n",
    "    def forward(self, x):\n",
    "        # operation for z\n",
    "        z = self.b + torch.matmul(x,self.W)\n",
    "\n",
    "        # apply activation function\n",
    "        y = torch.sigmoid(z)\n",
    "        return y"
   ]
  },
  {
   "cell_type": "markdown",
   "id": "c354e66e",
   "metadata": {},
   "source": [
    "Testing the output of the layer defined..."
   ]
  },
  {
   "cell_type": "code",
   "execution_count": 13,
   "id": "6a335d5e",
   "metadata": {},
   "outputs": [
    {
     "name": "stdout",
     "output_type": "stream",
     "text": [
      "Done defining the layer!\n",
      "\n",
      "Input shape: torch.Size([1, 2])\n",
      "Output shape: 1\n",
      "Outputs from the layer: tensor([[0.7965, 0.9923, 0.1749]], grad_fn=<SigmoidBackward0>)\n"
     ]
    }
   ],
   "source": [
    "# define number of input and output nodes\n",
    "num_inputs = 2\n",
    "num_outputs = 3\n",
    "\n",
    "# define the layer\n",
    "layer = DenseLayer(num_inputs, num_outputs)\n",
    "print(\"Done defining the layer!\\n\")\n",
    "# define an input\n",
    "x_input = torch.tensor([[1.0, 3.0]])\n",
    "print(f\"Input shape: {x_input.shape}\")\n",
    "\n",
    "# display(x_input.shape)\n",
    "\n",
    "# compute using the object `layer`\n",
    "y = layer(x_input)\n",
    "print(f\"Output shape: {y.shape[0]}\")\n",
    "print(f\"Outputs from the layer: {y}\")"
   ]
  },
  {
   "cell_type": "markdown",
   "id": "cf13dc8d",
   "metadata": {},
   "source": [
    "PyTorch has predefined nn.Modules (Layers) which are commonly used,like, <mark>nn.linear</mark> or <mark>nn.Sigmoid</mark>.<br>\n",
    "Instead of nn.Module to define a network, we can use <mark>nn.Sequential</mark> module and a single <mark>nn.Linear</mark> layer.<br>\n",
    "<b>Sequential API</b> can be used to build networks by stacking multiple layers."
   ]
  },
  {
   "cell_type": "code",
   "execution_count": 14,
   "id": "86233416",
   "metadata": {},
   "outputs": [
    {
     "name": "stdout",
     "output_type": "stream",
     "text": [
      "Finished defining the layer with Sequential API...\n"
     ]
    }
   ],
   "source": [
    "# Using Sequential API to build a neural network\n",
    "\n",
    "# define number of input and output nodes\n",
    "\n",
    "# defining the model using Sequential API\n",
    "model = nn.Sequential(\n",
    "    nn.Linear(num_inputs,num_outputs),\n",
    "    nn.Sigmoid()\n",
    ")\n",
    "\n",
    "# nn.Sequential is a submodule from nn.Module which can be used if we want to develop feed forward\n",
    "# simple networks\n",
    "# it eliminated the need to override the forward() method of nn.Module\n",
    "print(\"Finished defining the layer with Sequential API...\")"
   ]
  },
  {
   "cell_type": "markdown",
   "id": "298d020f",
   "metadata": {},
   "source": [
    "Testing the model with example inputs..."
   ]
  },
  {
   "cell_type": "code",
   "execution_count": 15,
   "id": "ece4cf54",
   "metadata": {},
   "outputs": [
    {
     "name": "stdout",
     "output_type": "stream",
     "text": [
      "Input Shape: torch.Size([1, 2])\n",
      "Output Shape: torch.Size([1, 3])\n",
      "Output from the network: tensor([[0.1026, 0.4047, 0.3036]], grad_fn=<SigmoidBackward0>)\n"
     ]
    }
   ],
   "source": [
    "# test the model with same input as before\n",
    "model_output = model(x_input)\n",
    "\n",
    "print(f\"Input Shape: {x_input.shape}\")\n",
    "print(f\"Output Shape: {model_output.shape}\")\n",
    "print(f\"Output from the network: {model_output}\")"
   ]
  },
  {
   "cell_type": "markdown",
   "id": "08ff6b85",
   "metadata": {},
   "source": [
    "PyTorch `nn.Module` allows for creating more flexible networks and define new architectures.<br>\n",
    "In the first network we defined (DenseLayer), we subclass `nn.Module` to create a class for our model  and define a forward pass through the network using `forward` function.<br>\n",
    "This feature of subclassing allows to define custom layers, training loops, activation functions and models.<br>\n",
    "Now, let us define the neural network we built in the second example (using `nn.Sequential`) by subclassing `nn.Module`"
   ]
  },
  {
   "cell_type": "code",
   "execution_count": 16,
   "id": "39ce24c5",
   "metadata": {},
   "outputs": [],
   "source": [
    "# Defining a network using subclassing\n",
    "\n",
    "class LinearWithSigmoidActivation(nn.Module):\n",
    "    \n",
    "    # define constructor\n",
    "    def __init__(self, num_inputs, num_outputs):\n",
    "        super(LinearWithSigmoidActivation, self).__init__() # call constructor of parent class\n",
    "        # define a single linear layer and a sigmoid activation\n",
    "        self.linear = nn.Linear(num_inputs, num_outputs)\n",
    "        self.activation = nn.Sigmoid()\n",
    "    \n",
    "    # override forward function\n",
    "    def forward(self, inputs):\n",
    "        linear_output = self.linear(inputs)\n",
    "        output = self.activation(linear_output)\n",
    "        return output"
   ]
  },
  {
   "cell_type": "markdown",
   "id": "5626ac2e",
   "metadata": {},
   "source": [
    "Test the network built using the same inputs as before"
   ]
  },
  {
   "cell_type": "code",
   "execution_count": 17,
   "id": "f4331df8",
   "metadata": {},
   "outputs": [
    {
     "name": "stdout",
     "output_type": "stream",
     "text": [
      "Model Input shape: torch.Size([1, 2])\n",
      "Model 1 Output Shape: torch.Size([1, 3])\n",
      "Model 1 Output: tensor([[0.3991, 0.7966, 0.9467]], grad_fn=<SigmoidBackward0>)\n"
     ]
    }
   ],
   "source": [
    "# test the builta network using same input nodes and output nodes\n",
    "model1 = LinearWithSigmoidActivation(num_inputs, num_outputs)\n",
    "model1_output = model1(x_input)\n",
    "\n",
    "print(f\"Model Input shape: {x_input.shape}\")\n",
    "print(f\"Model 1 Output Shape: {model1_output.shape}\")\n",
    "print(f\"Model 1 Output: {model1_output}\")"
   ]
  },
  {
   "cell_type": "markdown",
   "id": "93c71f15",
   "metadata": {},
   "source": [
    "It is evident from the above example `LinearWithSigmoidActivation` network that `nn.Module` offers wonderful flexibility to define custom models. <br>\n",
    "Let us take another example:<br>\n",
    "We can use boolean arguments in the `forward` function to define different network behaviours based on the state of boolean argument. An example is illustrated below:"
   ]
  },
  {
   "cell_type": "code",
   "execution_count": 18,
   "id": "b81fff58",
   "metadata": {},
   "outputs": [],
   "source": [
    "# Custom behavior of network depending on state of boolean input isidentity\n",
    "# when isidentity = False --> network is linear\n",
    "# else --> network is identity i.e., the network outputs the inputs itself.\n",
    "\n",
    "class CustomBehavingNetwork(nn.Module):\n",
    "    # define constructor\n",
    "    def __init__(self, num_inputs, num_outputs):\n",
    "        super(CustomBehavingNetwork, self).__init__() # call constructor of parent class\n",
    "        self.linear = nn.Linear(num_inputs, num_outputs)\n",
    "        self.identity = nn.Identity()\n",
    "\n",
    "    # Implement custom behaviour\n",
    "    def forward(self, input, isidentity=False):\n",
    "        if isidentity:\n",
    "            output = self.identity(input)\n",
    "        else:\n",
    "            output = self.linear(input)\n",
    "        return output"
   ]
  },
  {
   "cell_type": "markdown",
   "id": "447b4be4",
   "metadata": {},
   "source": [
    "Test the behaviour of the network we built"
   ]
  },
  {
   "cell_type": "code",
   "execution_count": 19,
   "id": "22102c58",
   "metadata": {},
   "outputs": [
    {
     "name": "stdout",
     "output_type": "stream",
     "text": [
      "Linear output of network: tensor([[ 0.1512,  1.5483, -1.1151]], grad_fn=<AddmmBackward0>)\n",
      "Identity output of network: tensor([[1., 3.]])\n",
      "Is identity output equal to input ? tensor([[True, True]])\n"
     ]
    }
   ],
   "source": [
    "model2 = CustomBehavingNetwork(num_inputs, num_outputs)\n",
    "\n",
    "# linear behaviour\n",
    "model2_output_1 = model2(x_input,  isidentity = False)\n",
    "# non linear behaviour\n",
    "model2_output_2 = model2(x_input, isidentity = True)\n",
    "\n",
    "print(f\"Linear output of network: {model2_output_1}\")\n",
    "print(f\"Identity output of network: {model2_output_2}\")\n",
    "print(f\"Is identity output equal to input ? {model2_output_2 == x_input}\")"
   ]
  },
  {
   "cell_type": "markdown",
   "id": "3bfe6187",
   "metadata": {},
   "source": [
    "So we now know how to define networks and layers using `nn.Module` and `nn.Sequential`.<br>\n",
    "We will now move to implement network training using backpropogation."
   ]
  },
  {
   "cell_type": "markdown",
   "id": "7c0fb80f",
   "metadata": {},
   "source": [
    "## 1.4 Training the Network Using Backpropogation"
   ]
  },
  {
   "cell_type": "markdown",
   "id": "71cb128c",
   "metadata": {},
   "source": [
    "PyTorch provides `torch.autograd` for automatic differentiation (an optimized algo to calculate partial derivatives).<br>\n",
    "The `.backward()` method traces operations for computing gradients.<br>\n",
    "Let us compute gradient of $ y = x^2 $:"
   ]
  },
  {
   "cell_type": "code",
   "execution_count": 20,
   "id": "37c112a2",
   "metadata": {},
   "outputs": [
    {
     "name": "stdout",
     "output_type": "stream",
     "text": [
      "Gradient of y=x^2 at x=3.0 is: 6.0\n"
     ]
    }
   ],
   "source": [
    "# Compute Gradient\n",
    "x = torch.tensor(3.0, requires_grad = True)\n",
    "y = x ** 2\n",
    "y.backward() # compute gradient\n",
    "dy_dx = x.grad\n",
    "print(f\"Gradient of y=x^2 at x=3.0 is: {dy_dx}\")\n",
    "assert dy_dx == 6"
   ]
  },
  {
   "cell_type": "markdown",
   "id": "ed6fdf25",
   "metadata": {},
   "source": [
    "In neural networks, we perform this differentiation on the loss/objective function to train the network so that we reach the best weights for the network.<br>\n",
    "We either use Gradient descent algorithm or the Stochastic Gradient Descent(SGD) Algorithm to perform differentiation on the objective function.<br>\n",
    "In the below example, we will write code to minimize $ L = (x - x_f)^2$, the loss of some neural network which is to be trained.<br>\n",
    "Hence, training a neural network --> minimizing the loss of cost function --> performing partial differentiation."
   ]
  },
  {
   "cell_type": "code",
   "execution_count": 21,
   "id": "b1348a64",
   "metadata": {},
   "outputs": [
    {
     "name": "stdout",
     "output_type": "stream",
     "text": [
      "Initialized x to tensor([1.4682])\n"
     ]
    },
    {
     "data": {
      "image/png": "[encoded data removed]",
      "text/plain": [
       "<Figure size 640x480 with 1 Axes>"
      ]
     },
     "metadata": {},
     "output_type": "display_data"
    }
   ],
   "source": [
    "# Minimising the loss function\n",
    "x = torch.randn(1) # randomly initialize the starting point\n",
    "print(f\"Initialized x to {x}\")\n",
    "\n",
    "lr = 1e-2 # define learning rate\n",
    "history = []\n",
    "x_f = 4 # target value\n",
    "\n",
    "# implement the gradient descent algo\n",
    "n_iterations = 500 # number of iterations for the GD algorithm\n",
    "\n",
    "for i in range(n_iterations):\n",
    "    x = torch.tensor([x], requires_grad = True)\n",
    "\n",
    "    # compute loss\n",
    "    loss = (x - x_f) ** 2\n",
    "\n",
    "    # backpropogate\n",
    "    loss.backward()\n",
    "\n",
    "    # update x\n",
    "\n",
    "    x = x.item() - (lr*x.grad)\n",
    "\n",
    "    # append into `history` to plot\n",
    "    history.append(x.item())\n",
    "\n",
    "# plot\n",
    "plt.plot(history,label = 'Predicted')\n",
    "plt.plot([0,500], [x_f,x_f], label = 'Target')\n",
    "plt.legend()\n",
    "plt.xlabel('Iteration')\n",
    "plt.ylabel('x value')\n",
    "plt.show()"
   ]
  }
 ],
 "metadata": {
  "kernelspec": {
   "display_name": "myenv",
   "language": "python",
   "name": "python3"
  },
  "language_info": {
   "codemirror_mode": {
    "name": "ipython",
    "version": 3
   },
   "file_extension": ".py",
   "mimetype": "text/x-python",
   "name": "python",
   "nbconvert_exporter": "python",
   "pygments_lexer": "ipython3",
   "version": "3.10.12"
  }
 },
 "nbformat": 4,
 "nbformat_minor": 5
}
