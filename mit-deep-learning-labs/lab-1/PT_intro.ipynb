{
 "cells": [
  {
   "cell_type": "markdown",
   "id": "7a76edba",
   "metadata": {
    "vscode": {
     "languageId": "plaintext"
    }
   },
   "source": [
    "# Part 1: Intro to PyTorch\n",
    "\n",
    "In this module, we will learn some basic computations of PyTorch."
   ]
  },
  {
   "cell_type": "markdown",
   "id": "d3e503b7",
   "metadata": {},
   "source": [
    "## 1.0 Install PyTorch"
   ]
  },
  {
   "cell_type": "code",
   "execution_count": 1,
   "id": "d0e14f12",
   "metadata": {},
   "outputs": [],
   "source": [
    "# I have installed PyTorch through my terminal in my virtual environment\n",
    "# For detailed information on how to install PyTorch, please refer to:\n",
    "# https://pytorch.org/get-started/locally/"
   ]
  },
  {
   "cell_type": "code",
   "execution_count": 2,
   "id": "537461aa",
   "metadata": {},
   "outputs": [],
   "source": [
    "# Importing libraries\n",
    "import numpy as np\n",
    "import matplotlib.pyplot as plt\n",
    "\n",
    "import torch\n",
    "import torch.nn as nn"
   ]
  },
  {
   "cell_type": "markdown",
   "id": "ef6ec1f1",
   "metadata": {},
   "source": [
    "## 1.1 What is PyTorch ?\n",
    "- PyTorch is a machine learning library.\n",
    "- It provides functions for creating and mainpulating tensors.\n",
    "- Tensors - data structures which are multi-dimensional arrays. They can be described as n-dimensional arrays of base datatypes like integers, floats and strings.\n",
    "- It provides ability to perform computations on tensors, define neural networks and train them."
   ]
  },
  {
   "cell_type": "markdown",
   "id": "c7abf28b",
   "metadata": {},
   "source": [
    "### Shape of a tensor: \n",
    "defines number of dimensions and size of each dimension."
   ]
  },
  {
   "cell_type": "code",
   "execution_count": 3,
   "id": "2c930ace",
   "metadata": {},
   "outputs": [
    {
     "name": "stdout",
     "output_type": "stream",
     "text": [
      "`integer` is a tensor of dimension 0\n",
      "`decimal` is a tensor of dimension 0\n"
     ]
    }
   ],
   "source": [
    "# examples of tensors\n",
    "integer = torch.tensor(9923)\n",
    "decimal = torch.tensor(3.14)\n",
    "\n",
    "# printing tensors and their dimensions\n",
    "print(f\"`integer` is a tensor of dimension {integer.ndim}\")\n",
    "print(f\"`decimal` is a tensor of dimension {decimal.ndim}\")"
   ]
  },
  {
   "cell_type": "markdown",
   "id": "c3cb885a",
   "metadata": {},
   "source": [
    "Tensors of dimension 1 can be created using lists or vectors"
   ]
  },
  {
   "cell_type": "code",
   "execution_count": 4,
   "id": "3a6023d4",
   "metadata": {},
   "outputs": [
    {
     "name": "stdout",
     "output_type": "stream",
     "text": [
      "`sequence` is a tensor of dimension 1 and shape: torch.Size([100])\n"
     ]
    }
   ],
   "source": [
    "sequence = torch.tensor(range(100))\n",
    "print(f\"`sequence` is a tensor of dimension {sequence.ndim} and shape: {sequence.shape}\")"
   ]
  },
  {
   "cell_type": "markdown",
   "id": "5cd305af",
   "metadata": {},
   "source": [
    "Tensors of higer dimensions:"
   ]
  },
  {
   "cell_type": "code",
   "execution_count": 5,
   "id": "394d1d05",
   "metadata": {},
   "outputs": [
    {
     "name": "stdout",
     "output_type": "stream",
     "text": [
      "`matrix_2d` is a tensor of dimension 2 and shape: torch.Size([2, 3])\n",
      "`tensor_3d` is a tensor of dimension 3 and shape: torch.Size([2, 2, 2])\n"
     ]
    }
   ],
   "source": [
    "# 2d tensors\n",
    "matrix_2d = torch.tensor([[1, 2, 3], [4, 5, 6]])\n",
    "# Assertions to check the properties of the tensors\n",
    "assert isinstance(matrix_2d, torch.Tensor), \"matrix_2d is not a tensor\"\n",
    "assert matrix_2d.ndim == 2\n",
    "\n",
    "print(f\"`matrix_2d` is a tensor of dimension {matrix_2d.ndim} and shape: {matrix_2d.shape}\")\n",
    "\n",
    "# 3d tensors\n",
    "tensor_3d = torch.tensor([[[1, 2], [3, 4]], [[5, 6], [7, 8]]])\n",
    "\n",
    "assert isinstance(tensor_3d, torch.Tensor), \"tensor_3d is not a tensor\"\n",
    "assert tensor_3d.ndim == 3\n",
    "print(f\"`tensor_3d` is a tensor of dimension {tensor_3d.ndim} and shape: {tensor_3d.shape}\")"
   ]
  },
  {
   "cell_type": "markdown",
   "id": "5ba036a5",
   "metadata": {},
   "source": [
    "\n",
    "3d tensors can be visualized as a stack of matrices or a cube of numbers<br>\n",
    "These are generally used to represent images, videos, etc."
   ]
  },
  {
   "cell_type": "code",
   "execution_count": 6,
   "id": "ad1f2170",
   "metadata": {},
   "outputs": [
    {
     "name": "stdout",
     "output_type": "stream",
     "text": [
      "`tensor_4d` is a tensor of dimension 4 and shape: torch.Size([2, 2, 4, 2])\n"
     ]
    }
   ],
   "source": [
    "# define a 4d tensor\n",
    "tensor_4d = torch.tensor([[[[1,2],[3,4],[5,6],[7,8]],[[1,2],[3,4],[5,6],[7,8]]],\n",
    "                          [[[1,2],[3,4],[5,6],[7,8]],[[1,2],[3,4],[5,6],[7,8]]]])\n",
    "\n",
    "assert isinstance(tensor_4d, torch.Tensor), \"tensor_4d is not a tensor\"\n",
    "assert tensor_4d.ndim == 4, \"tensor_4d is not a 4-dimensional tensor\"\n",
    "print(f\"`tensor_4d` is a tensor of dimension {tensor_4d.ndim} and shape: {tensor_4d.shape}\")"
   ]
  },
  {
   "cell_type": "markdown",
   "id": "e848592f",
   "metadata": {},
   "source": [
    "Use torch.zeros to initialize a 4-d Tensor of zeros with size 10 x 3 x 256 x 256.<br>\n",
    "Breakdown: 10 images, RGB, 256x256"
   ]
  },
  {
   "cell_type": "code",
   "execution_count": 7,
   "id": "d21a788b",
   "metadata": {},
   "outputs": [
    {
     "name": "stdout",
     "output_type": "stream",
     "text": [
      "`images` is a 4-d Tensor with shape: torch.Size([10, 3, 256, 256])\n",
      "`images` is a 4-d Tensor with shape: torch.Size([10, 3, 256, 256])\n"
     ]
    },
    {
     "name": "stderr",
     "output_type": "stream",
     "text": [
      "/tmp/ipykernel_3174/442107092.py:2: UserWarning: Creating a tensor from a list of numpy.ndarrays is extremely slow. Please consider converting the list to a single numpy.ndarray with numpy.array() before converting to a tensor. (Triggered internally at /pytorch/torch/csrc/utils/tensor_new.cpp:254.)\n",
      "  images = torch.tensor([\n"
     ]
    }
   ],
   "source": [
    "# initializing 4-d tensor of images\n",
    "images = torch.tensor([\n",
    "                    [np.zeros([256,256]),np.zeros([256,256]),np.zeros([256,256])],\n",
    "                    [np.zeros([256,256]),np.zeros([256,256]),np.zeros([256,256])],\n",
    "                    [np.zeros([256,256]),np.zeros([256,256]),np.zeros([256,256])],\n",
    "                    [np.zeros([256,256]),np.zeros([256,256]),np.zeros([256,256])],\n",
    "                    [np.zeros([256,256]),np.zeros([256,256]),np.zeros([256,256])],\n",
    "                    [np.zeros([256,256]),np.zeros([256,256]),np.zeros([256,256])],\n",
    "                    [np.zeros([256,256]),np.zeros([256,256]),np.zeros([256,256])],\n",
    "                    [np.zeros([256,256]),np.zeros([256,256]),np.zeros([256,256])],\n",
    "                    [np.zeros([256,256]),np.zeros([256,256]),np.zeros([256,256])],\n",
    "                    [np.zeros([256,256]),np.zeros([256,256]),np.zeros([256,256])]\n",
    "                    \n",
    "                    ])\n",
    "\n",
    "assert isinstance(images, torch.Tensor), \"images is not a tensor\"\n",
    "assert images.ndim == 4, \"images is not a 4-dimensional tensor\"\n",
    "assert images.shape == (10, 3, 256, 256), \"images does not have the expected shape\"\n",
    "print(f\"`images` is a {images.ndim}-d Tensor with shape: {images.shape}\")\n",
    "\n",
    "# That's probably the dumbest way to initialize a 4-d Tensor of zeros with size 10 x 3 x 256 x 256.\n",
    "\n",
    "# A better way to do this is:\n",
    "images = torch.zeros(10, 3, 256, 256)\n",
    "# display(images)\n",
    "\n",
    "assert isinstance(images, torch.Tensor), \"images is not a tensor\"\n",
    "assert images.ndim == 4, \"images is not a 4-dimensional tensor\"\n",
    "assert images.shape == (10, 3, 256, 256), \"images does not have the expected shape\"\n",
    "print(f\"`images` is a {images.ndim}-d Tensor with shape: {images.shape}\")"
   ]
  },
  {
   "cell_type": "markdown",
   "id": "7a066a01",
   "metadata": {},
   "source": [
    "Slicing can be used to access subtensors."
   ]
  },
  {
   "cell_type": "code",
   "execution_count": 8,
   "id": "19f2fa14",
   "metadata": {},
   "outputs": [
    {
     "name": "stdout",
     "output_type": "stream",
     "text": [
      "2d Tensor:\n"
     ]
    },
    {
     "data": {
      "text/plain": [
       "tensor([[1, 2, 3],\n",
       "        [4, 5, 6]])"
      ]
     },
     "metadata": {},
     "output_type": "display_data"
    },
    {
     "name": "stdout",
     "output_type": "stream",
     "text": [
      "Subtensor from 2d Tensor:\n"
     ]
    },
    {
     "data": {
      "text/plain": [
       "tensor([[2, 3],\n",
       "        [5, 6]])"
      ]
     },
     "metadata": {},
     "output_type": "display_data"
    },
    {
     "name": "stdout",
     "output_type": "stream",
     "text": [
      "Row Vector from 2d Tensor:\n"
     ]
    },
    {
     "data": {
      "text/plain": [
       "tensor([1, 2, 3])"
      ]
     },
     "metadata": {},
     "output_type": "display_data"
    },
    {
     "name": "stdout",
     "output_type": "stream",
     "text": [
      "Column Vector from 2d Tensor:\n"
     ]
    },
    {
     "data": {
      "text/plain": [
       "tensor([1, 4])"
      ]
     },
     "metadata": {},
     "output_type": "display_data"
    },
    {
     "name": "stdout",
     "output_type": "stream",
     "text": [
      "Scalar from 2d Tensor:\n"
     ]
    },
    {
     "data": {
      "text/plain": [
       "tensor(2)"
      ]
     },
     "metadata": {},
     "output_type": "display_data"
    }
   ],
   "source": [
    "# using slicing to access subtensors from a 2d tensor\n",
    "print(\"2d Tensor:\")\n",
    "display(matrix_2d)\n",
    "\n",
    "subtensor_2d = matrix_2d[0:2, 1:3]\n",
    "\n",
    "print(\"Subtensor from 2d Tensor:\")\n",
    "display(subtensor_2d)\n",
    "\n",
    "print(\"Row Vector from 2d Tensor:\")\n",
    "row_vector_2d = matrix_2d[0]\n",
    "display(row_vector_2d)\n",
    "\n",
    "print(\"Column Vector from 2d Tensor:\")\n",
    "column_vector_2d = matrix_2d[:, 0]\n",
    "display(column_vector_2d)\n",
    "\n",
    "print(\"Scalar from 2d Tensor:\")\n",
    "scalar_2d = matrix_2d[0, 1]\n",
    "display(scalar_2d)"
   ]
  },
  {
   "cell_type": "markdown",
   "id": "5e73add8",
   "metadata": {},
   "source": [
    "## 1.2 Computation on Tensors"
   ]
  },
  {
   "cell_type": "markdown",
   "id": "68d3d69a",
   "metadata": {},
   "source": [
    "Computation on tensors can be visualized using graphs. These graphs hold data and mathematical operations that act on the tensors in a specific order.<br>\n",
    "A simple example is illustrated in the graph below:<br><br>\n",
    "![alt text](tensor_computation_1.svg)"
   ]
  },
  {
   "cell_type": "code",
   "execution_count": 13,
   "id": "8320dd33",
   "metadata": {},
   "outputs": [
    {
     "name": "stdout",
     "output_type": "stream",
     "text": [
      "c1: 52 is a tensor ? True\n",
      "c2: 52 is a tensor ? True\n"
     ]
    }
   ],
   "source": [
    "# create nodes of the graph \n",
    "a = torch.tensor(20)\n",
    "b = torch.tensor(32)\n",
    "\n",
    "# perform addition operation\n",
    "c1 = torch.add(a, b)\n",
    "c2 = a + b\n",
    "\n",
    "# print(f\"c1: {c1}, c2: {c2}\")\n",
    "print(f\"c1: {c1} is a tensor ? {isinstance(c1, torch.Tensor)}\")\n",
    "print(f\"c2: {c2} is a tensor ? {isinstance(c2, torch.Tensor)}\")"
   ]
  },
  {
   "cell_type": "markdown",
   "id": "1406c173",
   "metadata": {},
   "source": [
    "Considering a slightly more complicated example:<br><br>\n",
    "![alt text](tensor_computation_2.svg)"
   ]
  },
  {
   "cell_type": "code",
   "execution_count": 14,
   "id": "7c6775ef",
   "metadata": {},
   "outputs": [],
   "source": [
    "# defining a function to perform computation as shown in the graph\n",
    "def compute(a, b):\n",
    "    c = torch.add(a, b)\n",
    "    d = torch.subtract(b, 1)\n",
    "    e = torch.multiply(c, d)\n",
    "    return e"
   ]
  },
  {
   "cell_type": "code",
   "execution_count": 16,
   "id": "959eef3b",
   "metadata": {},
   "outputs": [
    {
     "name": "stdout",
     "output_type": "stream",
     "text": [
      "Computation done on a: 20 and b: 32 resulted in : 1612\n",
      "Result is a tensor ? True\n"
     ]
    }
   ],
   "source": [
    "# use the function to perform computation\n",
    "result = compute(a, b)\n",
    "print(f\"Computation done on a: {a} and b: {b} resulted in : {result}\")\n",
    "print(f\"Result is a tensor ? {isinstance(result, torch.Tensor)}\")"
   ]
  },
  {
   "cell_type": "markdown",
   "id": "05122013",
   "metadata": {},
   "source": [
    "## 1.3 Neural Networks in PyTorch"
   ]
  },
  {
   "cell_type": "markdown",
   "id": "8712b24b",
   "metadata": {},
   "source": [
    "We can define neural networks in PyTorch. Well that's the dominant use case of PyTorch!<br>\n",
    "PyTorch uses <mark>torch.nn.Module</mark> - it serves as base class for all neural network modules in PyTorch - providing framework to build and train these neural networks.<br>\n",
    "\n",
    "Below is a graphical representation of a simple neural network:<br><br>\n",
    "![alt text](simple_neural_network.svg)"
   ]
  },
  {
   "cell_type": "markdown",
   "id": "e2234937",
   "metadata": {},
   "source": [
    "We use <mark>torch.nn.Module</mark> to define the layers, which contain groups of perceptrons(neurons), the building blocks of neural networks.<br>\n",
    "To implement a layer, we subclass <mark>torch.nn.Module</mark> and define parameters of layers (w,x,b) as attributes of this new class.<br>\n",
    "It is also necessary to overload <mark>forward</mark> function by defining a forward computation function performed at every step.<br>\n",
    "<br>\n",
    "Writing a dense layer for the network shown above:"
   ]
  },
  {
   "cell_type": "code",
   "execution_count": null,
   "id": "a4ecfa47",
   "metadata": {},
   "outputs": [],
   "source": [
    "# defining a new layer\n",
    "\n",
    "# num_inputs: number of input nodes\n",
    "# num_outputs: number of output nodes\n",
    "# x: input tensor\n",
    "\n",
    "class DenseLayer(torch.nn.Module):\n",
    "    def __init__(self, num_inputs, num_outputs):\n",
    "        super(DenseLayer,self).__init__()\n",
    "\n",
    "        # defining the parameters of the layer and initializing them randomly\n",
    "        self.W = torch.nn.Parameter(torch.randn(num_inputs, num_outputs))\n",
    "        self.b = torch.nn.Parameter(torch.randn(num_outputs))\n",
    "\n",
    "    # defining the forward computation function (override)\n",
    "    def forward(self, x):\n",
    "        # operation for z\n",
    "        z = self.b + torch.matmul(x,self.W)\n",
    "\n",
    "        # apply activation function\n",
    "        y = torch.sigmoid(z)\n",
    "        return y"
   ]
  },
  {
   "cell_type": "markdown",
   "id": "c354e66e",
   "metadata": {},
   "source": [
    "Testing the output of the layer defined..."
   ]
  },
  {
   "cell_type": "code",
   "execution_count": 32,
   "id": "6a335d5e",
   "metadata": {},
   "outputs": [
    {
     "name": "stdout",
     "output_type": "stream",
     "text": [
      "Done defining the layer!\n",
      "\n",
      "Input shape: torch.Size([1, 2])\n",
      "Output shape: torch.Size([1, 3])\n",
      "Outputs from the layer: tensor([[0.9990, 0.5357, 0.9686]], grad_fn=<SigmoidBackward0>)\n"
     ]
    }
   ],
   "source": [
    "# define number of input and output nodes\n",
    "num_inputs = 2\n",
    "num_outputs = 3\n",
    "\n",
    "# define the layer\n",
    "layer = DenseLayer(num_inputs, num_outputs)\n",
    "x_input = torch.tensor([[1.0, 3.0]])\n",
    "\n",
    "# display(x_input.shape)\n",
    "\n",
    "y = layer(x_input)\n",
    "\n",
    "print(\"Done defining the layer!\\n\")\n",
    "print(f\"Input shape: {x_input.shape}\")\n",
    "print(f\"Output shape: {y.shape}\")\n",
    "print(f\"Outputs from the layer: {y}\")"
   ]
  },
  {
   "cell_type": "markdown",
   "id": "cf13dc8d",
   "metadata": {},
   "source": [
    "PyTorch has predefined nn.Modules (Layers) which are commonly used,like, <mark>nn.linear</mark> or <mark>nn.Sigmoid</mark>.<br>\n",
    "Instead of nn.Module to define a network, we can use <mark>nn.Sequential</mark> module and a single <mark>nn.Linear</mark> layer.<br>\n",
    "<b>Sequential API</b> can be used to build networks by stacking multiple layers."
   ]
  },
  {
   "cell_type": "code",
   "execution_count": 54,
   "id": "86233416",
   "metadata": {},
   "outputs": [],
   "source": [
    "# Using Sequential API to build a neural network\n",
    "\n",
    "# define number of input and output nodes\n",
    "ip_nodes = 2\n",
    "op_nodes = 3\n",
    "\n",
    "# defining the model using Sequential API\n",
    "model = nn.Sequential(\n",
    "    nn.Linear(ip_nodes,op_nodes),\n",
    "    nn.Sigmoid()\n",
    ")"
   ]
  },
  {
   "cell_type": "markdown",
   "id": "298d020f",
   "metadata": {},
   "source": [
    "Testing the model with example inputs..."
   ]
  },
  {
   "cell_type": "code",
   "execution_count": 57,
   "id": "ece4cf54",
   "metadata": {},
   "outputs": [
    {
     "name": "stdout",
     "output_type": "stream",
     "text": [
      "Input Shape: torch.Size([1, 2])\n",
      "Output Shape: torch.Size([1, 3])\n",
      "Output from the network: tensor([[0.2088, 0.6832, 0.1631]], grad_fn=<SigmoidBackward0>)\n"
     ]
    }
   ],
   "source": [
    "model_output = model(x_input)\n",
    "\n",
    "print(f\"Input Shape: {x_input.shape}\")\n",
    "print(f\"Output Shape: {model_output.shape}\")\n",
    "print(f\"Output from the network: {model_output}\")"
   ]
  },
  {
   "cell_type": "code",
   "execution_count": null,
   "id": "08ff6b85",
   "metadata": {},
   "outputs": [],
   "source": []
  }
 ],
 "metadata": {
  "kernelspec": {
   "display_name": "myenv",
   "language": "python",
   "name": "python3"
  },
  "language_info": {
   "codemirror_mode": {
    "name": "ipython",
    "version": 3
   },
   "file_extension": ".py",
   "mimetype": "text/x-python",
   "name": "python",
   "nbconvert_exporter": "python",
   "pygments_lexer": "ipython3",
   "version": "3.10.12"
  }
 },
 "nbformat": 4,
 "nbformat_minor": 5
}
